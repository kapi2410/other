{
 "cells": [
  {
   "cell_type": "markdown",
   "id": "f2916d94-069d-483b-8c84-30e38220d88a",
   "metadata": {},
   "source": [
    "## Nonlinear programming using Frank-wolfe method"
   ]
  },
  {
   "attachments": {
    "image.png": {
     "image/png": "[encoded data removed]"
    }
   },
   "cell_type": "markdown",
   "id": "8538fb5c",
   "metadata": {},
   "source": [
    "![image.png](attachment:image.png)"
   ]
  },
  {
   "cell_type": "code",
   "execution_count": 18,
   "id": "d0f970d2",
   "metadata": {},
   "outputs": [],
   "source": [
    "import numpy as np\n",
    "\n",
    "# Objective function\n",
    "def objective(x):\n",
    "    x1, x2, x3 = x\n",
    "    return 250 * x1**0.3 * x2**0.25 * x3**0.1 + 20 * (x1 + x2)**0.5\n",
    "\n",
    "def gradient(x):\n",
    "    x1, x2, x3 = x\n",
    "    grad_x1 = 75 * x1**-0.7 * x2**0.25 * x3**0.1 + 10 / (x1 + x2)**0.5\n",
    "    grad_x2 = 62.5 * x1**0.3 * x2**-0.75 * x3**0.1 + 10 / (x1 + x2)**0.5\n",
    "    grad_x3 = 25 * x1**0.3 * x2**0.25 * x3**-0.9 \n",
    "    return np.array([grad_x1, grad_x2, grad_x3])\n",
    "\n",
    "from scipy.optimize import linprog\n",
    "\n",
    "def solve_linear_problem(grad):\n",
    "\n",
    "    A = [\n",
    "        [1, 0, -75],  \n",
    "        [-1, 0, 50],\n",
    "        [-3, 1, 0],  \n",
    "        [2, -1, 0],   \n",
    "        [-0.275, 0.45, 0],  \n",
    "        [0.275, -0.825, 0] \n",
    "    ]\n",
    "\n",
    "    b = [0, 0, 0, 0, 11000, -11000]\n",
    "\n",
    "    \n",
    "    c = grad\n",
    "\n",
    "    bounds = [(0, None), (0, None), (80, 160)]\n",
    "\n",
    "    res = linprog(c, A_ub=A, b_ub=b, bounds=bounds, method='highs')\n",
    "\n",
    "    if res.success:\n",
    "        return res.x\n",
    "    else:\n",
    "        raise ValueError(\"Linear programming failed to find a solution.\")\n",
    "\n",
    "\n",
    "# Constraint check function\n",
    "def check_all_constraints(x):\n",
    "    x1, x2, x3 = x\n",
    "    return (50*x3 <= x1 <= 75*x3) and (2*x1 <= x2 <= 3*x1) and (0.45*x2 <= 0.275*x1 + 11000 <= 0.825*x2)\n",
    "\n",
    "def gss(f, a, b, tol=1e-5):\n",
    "    \"\"\"Golden-section search\n",
    "    to find the minimum of f on [a,b]\n",
    "    \"\"\"\n",
    "    phi = (1 + 5**0.5) / 2 \n",
    "    while abs(b - a) > tol:\n",
    "        c = b - (b - a) / phi\n",
    "        d = a + (b - a) / phi\n",
    "        if f(c) < f(d):  # f(c) > f(d) to find the maximum\n",
    "            b = d\n",
    "        else:\n",
    "            a = c\n",
    "\n",
    "    return (b + a) / 2\n",
    "\n",
    "\n",
    "def frank_wolfe2(x0, max_iter=10, tol=1e-6):\n",
    "    x = np.array(x0, dtype=float)  \n",
    "    for k in range(max_iter):\n",
    "        grad = gradient(x) \n",
    "        \n",
    "\n",
    "        s = solve_linear_problem(grad)  \n",
    "        \n",
    "        def line_search_objective(alpha):\n",
    "            return objective(x + alpha * (s - x))\n",
    "        \n",
    "        alpha = gss(line_search_objective, 0, 1, tol=tol)\n",
    "        #print(alpha)\n",
    "        x_new = x + alpha * (s - x)\n",
    "        #print(s,s-x)\n",
    "        if np.linalg.norm(x_new - x, ord=2) < tol or abs(objective(x_new) - objective(x)) < tol:\n",
    "            break\n",
    "        \n",
    "        x = x_new \n",
    "\n",
    "    return x, objective(x)"
   ]
  },
  {
   "cell_type": "code",
   "execution_count": 19,
   "id": "b3811b3b",
   "metadata": {},
   "outputs": [],
   "source": [
    "initial = [6000, 15400, 120]"
   ]
  },
  {
   "cell_type": "code",
   "execution_count": 20,
   "id": "997d5945",
   "metadata": {},
   "outputs": [
    {
     "data": {
      "text/plain": [
       "True"
      ]
     },
     "execution_count": 20,
     "metadata": {},
     "output_type": "execute_result"
    }
   ],
   "source": [
    "check_all_constraints(initial)"
   ]
  },
  {
   "cell_type": "code",
   "execution_count": 21,
   "id": "647d37f7",
   "metadata": {},
   "outputs": [
    {
     "data": {
      "text/plain": [
       "(array([ 5000., 15000.,    80.]), 58031.445350634116)"
      ]
     },
     "execution_count": 21,
     "metadata": {},
     "output_type": "execute_result"
    }
   ],
   "source": [
    "frank_wolfe2(initial)"
   ]
  },
  {
   "cell_type": "code",
   "execution_count": 22,
   "id": "238f7bf4",
   "metadata": {},
   "outputs": [],
   "source": [
    "g = gradient(initial)"
   ]
  },
  {
   "cell_type": "code",
   "execution_count": 23,
   "id": "cd4ff696",
   "metadata": {},
   "outputs": [
    {
     "data": {
      "text/plain": [
       "array([ 3.12436101,  1.06056717, 50.93337356])"
      ]
     },
     "execution_count": 23,
     "metadata": {},
     "output_type": "execute_result"
    }
   ],
   "source": [
    "g"
   ]
  },
  {
   "cell_type": "code",
   "execution_count": 24,
   "id": "23804670",
   "metadata": {},
   "outputs": [
    {
     "data": {
      "text/plain": [
       "(array([ 5000., 15000.,    80.]), 58031.44535063351)"
      ]
     },
     "execution_count": 24,
     "metadata": {},
     "output_type": "execute_result"
    }
   ],
   "source": [
    "frank_wolfe2([5900,15300,80])"
   ]
  },
  {
   "cell_type": "code",
   "execution_count": 25,
   "id": "fc6062ca",
   "metadata": {},
   "outputs": [
    {
     "data": {
      "text/plain": [
       "True"
      ]
     },
     "execution_count": 25,
     "metadata": {},
     "output_type": "execute_result"
    }
   ],
   "source": [
    "check_all_constraints([5900,15300,80])"
   ]
  }
 ],
 "metadata": {
  "kernelspec": {
   "display_name": "Python 3 (ipykernel)",
   "language": "python",
   "name": "python3"
  },
  "language_info": {
   "codemirror_mode": {
    "name": "ipython",
    "version": 3
   },
   "file_extension": ".py",
   "mimetype": "text/x-python",
   "name": "python",
   "nbconvert_exporter": "python",
   "pygments_lexer": "ipython3",
   "version": "3.12.3"
  }
 },
 "nbformat": 4,
 "nbformat_minor": 5
}
