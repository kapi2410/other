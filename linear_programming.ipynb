{
 "cells": [
  {
   "cell_type": "markdown",
   "id": "4a3d7fc6",
   "metadata": {},
   "source": [
    "The company providing cleaning services for the hospitals has found out that the demand\n",
    "for its services is quite seasonal. The number of hours of service needed in each month is given in the table\n",
    "below:"
   ]
  },
  {
   "attachments": {
    "image.png": {
     "image/png": "[encoded data removed]"
    }
   },
   "cell_type": "markdown",
   "id": "feae563c",
   "metadata": {},
   "source": [
    "![image.png](attachment:image.png)"
   ]
  },
  {
   "cell_type": "markdown",
   "id": "68b83620",
   "metadata": {},
   "source": [
    "Each person is hired at the beginning of a month for a 3- or 6-month contract. Each person needs to pass the\n",
    "training in the first month, which decreases the number of hours for which he/she is available to 80. In any\n",
    "other month he/she can work for 196 hours. The monthly payment of any worker is $1700. Write an integer\n",
    "program allowing you to find the optimal plan of hireing people for 3- and 6-month contracts. Your goal should\n",
    "be the minimization of cost subject to covering all the demand."
   ]
  },
  {
   "cell_type": "markdown",
   "id": "02233a7a",
   "metadata": {},
   "source": [
    "$ X_{i,j}$ - worker on 3 month contract working in month i, during his j-th month of contract $\\\\$\n",
    "$ Y_{i,j}$ - worker on 6 month contract working in month i, during his j-th month of contract "
   ]
  },
  {
   "cell_type": "markdown",
   "id": "e450d3cf",
   "metadata": {},
   "source": [
    "$\\text{Minimize} \\quad Z = 1700 \\cdot \\sum\\limits_{i=1}^{12} \\left(\\sum\\limits_{j=1}^{3} X_{i,j} + \\sum\\limits_{j=1}^{6} Y_{i,j}\\right)$\n"
   ]
  },
  {
   "cell_type": "markdown",
   "id": "5773f38d",
   "metadata": {},
   "source": [
    "$\\text{subject to: } \\ 80 \\cdot X_{1,1} + 196 \\cdot (X_{1,2}+X_{1,3}) + 80 \\cdot Y_{1,1} +196 \\cdot (Y_{1,2}+Y_{1,3}+Y_{1,4}+Y_{1,5}+Y_{1,6}) \\geq 1800 \\\\$\n",
    "$\\quad \\quad \\quad \\quad 80 \\cdot X_{2,1} + 196 \\cdot (X_{2,2}+X_{2,3}) + 80 \\cdot Y_{2,1} +196 \\cdot (Y_{2,2}+Y_{2,3}+Y_{2,4}+Y_{2,5}+Y_{2,6}) \\geq 2500 \\\\ $<br>\n",
    "&vellip;<br> \n"
   ]
  },
  {
   "cell_type": "markdown",
   "id": "b8631575",
   "metadata": {},
   "source": [
    "$\\quad \\quad \\quad \\quad 80 \\cdot X_{12,1} + 196 \\cdot (X_{12,2}+X_{12,3}) + 80 \\cdot Y_{12,1} +196 \\cdot (Y_{12,2}+Y_{12,3}+Y_{12,4}+Y_{12,5}+Y_{12,6}) \\geq 2300$ "
   ]
  },
  {
   "cell_type": "markdown",
   "id": "22f6d8fd",
   "metadata": {},
   "source": [
    "### Demand constraints ^"
   ]
  },
  {
   "cell_type": "markdown",
   "id": "1ea53b66",
   "metadata": {},
   "source": [
    "### So we can write it in one eq:"
   ]
  },
  {
   "cell_type": "markdown",
   "id": "9bda038e",
   "metadata": {},
   "source": [
    "$ \\ 80 \\cdot X_{i,j} + 196 \\cdot (\\sum\\limits_{j=2}^{3} X_{i,j}) + 80 \\cdot Y_{1,1} +196 \\cdot (\\sum\\limits_{j=2}^{6} Y_{i,j} ) \\geq \\text{Hours demand in ith month} $ "
   ]
  },
  {
   "cell_type": "markdown",
   "id": "047bc04e",
   "metadata": {},
   "source": [
    "and for $i>1$ and $j>1$ we have: $ X_{i,j} = X_{i-1,j-1} $ and $Y_{i-1,j-1}$"
   ]
  },
  {
   "cell_type": "markdown",
   "id": "c19feac8",
   "metadata": {},
   "source": [
    "$ X_{i,j} \\geq 0 $ and $Y_{i,j} \\geq 0, \\text{for } i \\in \\{1,2,...,12\\} \\text{ and } j \\in \\{1,2,...,6\\}$"
   ]
  },
  {
   "cell_type": "markdown",
   "id": "747a0a22",
   "metadata": {},
   "source": [
    "### Here is how every \"row\" looks like in terms of variables"
   ]
  },
  {
   "cell_type": "markdown",
   "id": "eb9a78f9",
   "metadata": {},
   "source": [
    "$$\n",
    "1. x_{11} + x_{12} + x_{13} + y_{11} + y_{12} + y_{13} + y_{14} + y_{15} + y_{16}  \\\\\n",
    "2. x_{21} + x_{11} + x_{12} + y_{21} + y_{11} + y_{12} + y_{13} + y_{14} + y_{15}  \\\\\n",
    "3. x_{31} + x_{21} + x_{11} + y_{31} + y_{21} + y_{11} + y_{12} + y_{13} + y_{14}  \\\\\n",
    "4. x_{41} + x_{31} + x_{21} + y_{41} + y_{31} + y_{21} + y_{11} + y_{12} + y_{13}  \\\\\n",
    "5. x_{51} + x_{41} + x_{31} + y_{51} + y_{41} + y_{31} + y_{21} + y_{11} + y_{12}  \\\\\n",
    "6. x_{61} + x_{51} + x_{41} + y_{61} + y_{51} + y_{41} + y_{31} + y_{21} + y_{11}  \\\\\n",
    "7. x_{71} + x_{61} + x_{51} + y_{71} + y_{61} + y_{51} + y_{41} + y_{31} + y_{21}  \\\\\n",
    "8. x_{81} + x_{71} + x_{61} + y_{81} + y_{71} + y_{61} + y_{51} + y_{41} + y_{31}  \\\\\n",
    "9. x_{91} + x_{81} + x_{71} + y_{91} + y_{81} + y_{71} + y_{61} + y_{51} + y_{41}  \\\\\n",
    "10. x_{101} + x_{91} + x_{81} + y_{101} + y_{91} + y_{81} + y_{71} + y_{61} + y_{51}\\\\\n",
    "11. x_{111} + x_{101} + x_{91} + y_{111} + y_{101} + y_{91} + y_{81} + y_{71} + y_{61}  \\\\\n",
    "12. x_{121} + x_{111} + x_{101} + y_{121} + y_{111} + y_{101} + y_{91} + y_{81} + y_{71} \\\\\n",
    "$$\n"
   ]
  },
  {
   "cell_type": "markdown",
   "id": "87b0ac1a",
   "metadata": {},
   "source": [
    "### By looking on the grid above, we noticed the patter of changing indexes and wrote function to replicate it"
   ]
  },
  {
   "cell_type": "code",
   "execution_count": 99,
   "id": "020caf77",
   "metadata": {},
   "outputs": [],
   "source": [
    "import pulp"
   ]
  },
  {
   "cell_type": "code",
   "execution_count": 100,
   "id": "c9573f94",
   "metadata": {},
   "outputs": [],
   "source": [
    "def gen_index(starting):\n",
    "    \"\"\"\n",
    "    based on first \"pair\" it generates other pairs in given row\n",
    "    \"\"\"\n",
    "    ind = []\n",
    "    ind.append(starting)\n",
    "    for i in range(2):\n",
    "        if ind[-1] == (1,1):\n",
    "            ind.append((1,2))\n",
    "        elif ind[-1][0] != 1:\n",
    "            ind.append((ind[-1][0]-1,ind[-1][1]))\n",
    "        else:\n",
    "            ind.append((ind[-1][0],ind[-1][1]+1))\n",
    "    ind.append(starting)\n",
    "    for i in range(5):\n",
    "        if ind[-1] == (1,1):\n",
    "            ind.append((1,2))\n",
    "        elif ind[-1][0] != 1:\n",
    "            ind.append((ind[-1][0]-1,ind[-1][1]))\n",
    "        else:\n",
    "            ind.append((ind[-1][0],ind[-1][1]+1))\n",
    "    return ind"
   ]
  },
  {
   "cell_type": "code",
   "execution_count": 101,
   "id": "f33ec89a",
   "metadata": {},
   "outputs": [
    {
     "data": {
      "text/plain": [
       "[(1, 1), (1, 2), (1, 3), (1, 1), (1, 2), (1, 3), (1, 4), (1, 5), (1, 6)]"
      ]
     },
     "execution_count": 101,
     "metadata": {},
     "output_type": "execute_result"
    }
   ],
   "source": [
    "gen_index((1,1))"
   ]
  },
  {
   "cell_type": "code",
   "execution_count": 102,
   "id": "a8ee718f",
   "metadata": {},
   "outputs": [
    {
     "data": {
      "text/plain": [
       "[(5, 1), (4, 1), (3, 1), (5, 1), (4, 1), (3, 1), (2, 1), (1, 1), (1, 2)]"
      ]
     },
     "execution_count": 102,
     "metadata": {},
     "output_type": "execute_result"
    }
   ],
   "source": [
    "gen_index((5,1))"
   ]
  },
  {
   "cell_type": "code",
   "execution_count": 103,
   "id": "bc30851e",
   "metadata": {},
   "outputs": [
    {
     "data": {
      "text/plain": [
       "[(1, 1),\n",
       " (2, 1),\n",
       " (3, 1),\n",
       " (4, 1),\n",
       " (5, 1),\n",
       " (6, 1),\n",
       " (7, 1),\n",
       " (8, 1),\n",
       " (9, 1),\n",
       " (10, 1),\n",
       " (11, 1),\n",
       " (12, 1)]"
      ]
     },
     "execution_count": 103,
     "metadata": {},
     "output_type": "execute_result"
    }
   ],
   "source": [
    "starting_nodes = [(i,1) for i in range(1,13)]\n",
    "starting_nodes"
   ]
  },
  {
   "cell_type": "code",
   "execution_count": 104,
   "id": "dd3e480b",
   "metadata": {},
   "outputs": [],
   "source": [
    "work_demand2 = pulp.LpProblem('work_demand_problem', pulp.LpMinimize)"
   ]
  },
  {
   "cell_type": "markdown",
   "id": "0a5fc983",
   "metadata": {},
   "source": [
    "### Defining variables"
   ]
  },
  {
   "cell_type": "code",
   "execution_count": 105,
   "id": "1170c49d",
   "metadata": {},
   "outputs": [],
   "source": [
    "indices_i = range(1, 13)\n",
    "indices_j = range(1, 4)\n",
    "\n",
    "x = {(i, j): pulp.LpVariable(f\"x{i}{j}\", lowBound=0, cat='Integer') for i in indices_i for j in indices_j}\n",
    "\n",
    "indices_i = range(1, 13)\n",
    "indices_j = range(1, 7)\n",
    "\n",
    "y = {(i, j): pulp.LpVariable(f\"y{i}{j}\", lowBound=0, cat='Integer') for i in indices_i for j in indices_j}"
   ]
  },
  {
   "cell_type": "markdown",
   "id": "fc48f062",
   "metadata": {},
   "source": [
    "### Defining constraints "
   ]
  },
  {
   "cell_type": "code",
   "execution_count": 106,
   "id": "6ad2d243",
   "metadata": {},
   "outputs": [],
   "source": [
    "mini = 0\n",
    "for k in range(12):\n",
    "    row = gen_index(starting_nodes[k])\n",
    "    for l in range(3):\n",
    "        mini += x[row[l]]\n",
    "    for ll in range(6):\n",
    "        mini += y[row[3+ll]]"
   ]
  },
  {
   "cell_type": "code",
   "execution_count": 107,
   "id": "28a376ca",
   "metadata": {},
   "outputs": [
    {
     "data": {
      "text/plain": [
       "3*x101 + 3*x11 + 2*x111 + 2*x12 + 1*x121 + 1*x13 + 3*x21 + 3*x31 + 3*x41 + 3*x51 + 3*x61 + 3*x71 + 3*x81 + 3*x91 + 3*y101 + 6*y11 + 2*y111 + 5*y12 + 1*y121 + 4*y13 + 3*y14 + 2*y15 + 1*y16 + 6*y21 + 6*y31 + 6*y41 + 6*y51 + 6*y61 + 6*y71 + 5*y81 + 4*y91 + 0"
      ]
     },
     "execution_count": 107,
     "metadata": {},
     "output_type": "execute_result"
    }
   ],
   "source": [
    "mini"
   ]
  },
  {
   "cell_type": "markdown",
   "id": "502b49be",
   "metadata": {},
   "source": [
    "### adding first constraint"
   ]
  },
  {
   "cell_type": "code",
   "execution_count": 108,
   "id": "0c0f2374",
   "metadata": {},
   "outputs": [],
   "source": [
    "work_demand2 += 1700 * mini"
   ]
  },
  {
   "cell_type": "code",
   "execution_count": 109,
   "id": "cf3f7e8f",
   "metadata": {},
   "outputs": [],
   "source": [
    "hd = [1800,2500,1500,900,700,1000,700,600,1300,1600,1800,2300]"
   ]
  },
  {
   "cell_type": "markdown",
   "id": "11d5b346",
   "metadata": {},
   "source": [
    "### Function to generate row given the starting indexes, it can also be used to get results - values of each x and y after we find solution"
   ]
  },
  {
   "cell_type": "code",
   "execution_count": 110,
   "id": "b02ce31d",
   "metadata": {},
   "outputs": [],
   "source": [
    "def make_row(starting,amount = False,hours = False):\n",
    "    indices = gen_index(starting)\n",
    "    row = 0\n",
    "    if amount is False and hours is False:\n",
    "        row += 80*x[indices[0]]\n",
    "        for l in range(2):\n",
    "            row += 196*x[indices[1+l]]\n",
    "        row += 80*y[indices[3]]        \n",
    "        for ll in range(5):\n",
    "            row += 196*y[indices[4+ll]]  \n",
    "        return row\n",
    "    elif hours is True:\n",
    "        row += 80*x[indices[0]].value()\n",
    "        for l in range(2):\n",
    "            row += 196*x[indices[1+l]].value()\n",
    "        row += 80*y[indices[3]].value()        \n",
    "        for ll in range(5):\n",
    "            row += 196*y[indices[4+ll]].value()   \n",
    "        return row\n",
    "    elif amount is True:\n",
    "        m3 = 0\n",
    "        m6 = 0\n",
    "        m3 += x[indices[0]].value()\n",
    "        for l in range(2):\n",
    "            m3+= x[indices[1+l]].value()\n",
    "        m6 += y[indices[3]].value()        \n",
    "        for ll in range(5):\n",
    "            m6 += y[indices[4+ll]].value()\n",
    "        return m3,m6"
   ]
  },
  {
   "cell_type": "code",
   "execution_count": 111,
   "id": "b07e5b0f",
   "metadata": {},
   "outputs": [
    {
     "data": {
      "text/plain": [
       "196*x31 + 196*x41 + 80*x51 + 196*y11 + 196*y12 + 196*y21 + 196*y31 + 196*y41 + 80*y51 + 0"
      ]
     },
     "execution_count": 111,
     "metadata": {},
     "output_type": "execute_result"
    }
   ],
   "source": [
    "make_row((5,1))"
   ]
  },
  {
   "cell_type": "code",
   "execution_count": 118,
   "id": "820736e2",
   "metadata": {},
   "outputs": [
    {
     "data": {
      "text/plain": [
       "(1.0, 4.0)"
      ]
     },
     "execution_count": 118,
     "metadata": {},
     "output_type": "execute_result"
    }
   ],
   "source": [
    "make_row((5,1),amount=True)"
   ]
  },
  {
   "cell_type": "code",
   "execution_count": 119,
   "id": "7a5a37ce",
   "metadata": {},
   "outputs": [
    {
     "data": {
      "text/plain": [
       "864.0"
      ]
     },
     "execution_count": 119,
     "metadata": {},
     "output_type": "execute_result"
    }
   ],
   "source": [
    "make_row((5,1),hours=True)"
   ]
  },
  {
   "cell_type": "markdown",
   "id": "ce929523",
   "metadata": {},
   "source": [
    "### Adding the rest of equations"
   ]
  },
  {
   "cell_type": "code",
   "execution_count": 113,
   "id": "3510bd11",
   "metadata": {},
   "outputs": [],
   "source": [
    "for lll in range(12):\n",
    "    work_demand2 += make_row((lll+1,1)) >= hd[lll] "
   ]
  },
  {
   "cell_type": "code",
   "execution_count": 114,
   "id": "1dd65e29",
   "metadata": {},
   "outputs": [
    {
     "name": "stdout",
     "output_type": "stream",
     "text": [
      "work_demand_problem:\n",
      "MINIMIZE\n",
      "5100*x101 + 5100*x11 + 3400*x111 + 3400*x12 + 1700*x121 + 1700*x13 + 5100*x21 + 5100*x31 + 5100*x41 + 5100*x51 + 5100*x61 + 5100*x71 + 5100*x81 + 5100*x91 + 5100*y101 + 10200*y11 + 3400*y111 + 8500*y12 + 1700*y121 + 6800*y13 + 5100*y14 + 3400*y15 + 1700*y16 + 10200*y21 + 10200*y31 + 10200*y41 + 10200*y51 + 10200*y61 + 10200*y71 + 8500*y81 + 6800*y91 + 0\n",
      "SUBJECT TO\n",
      "_C1: 80 x11 + 196 x12 + 196 x13 + 80 y11 + 196 y12 + 196 y13 + 196 y14\n",
      " + 196 y15 + 196 y16 >= 1800\n",
      "\n",
      "_C2: 196 x11 + 196 x12 + 80 x21 + 196 y11 + 196 y12 + 196 y13 + 196 y14\n",
      " + 196 y15 + 80 y21 >= 2500\n",
      "\n",
      "_C3: 196 x11 + 196 x21 + 80 x31 + 196 y11 + 196 y12 + 196 y13 + 196 y14\n",
      " + 196 y21 + 80 y31 >= 1500\n",
      "\n",
      "_C4: 196 x21 + 196 x31 + 80 x41 + 196 y11 + 196 y12 + 196 y13 + 196 y21\n",
      " + 196 y31 + 80 y41 >= 900\n",
      "\n",
      "_C5: 196 x31 + 196 x41 + 80 x51 + 196 y11 + 196 y12 + 196 y21 + 196 y31\n",
      " + 196 y41 + 80 y51 >= 700\n",
      "\n",
      "_C6: 196 x41 + 196 x51 + 80 x61 + 196 y11 + 196 y21 + 196 y31 + 196 y41\n",
      " + 196 y51 + 80 y61 >= 1000\n",
      "\n",
      "_C7: 196 x51 + 196 x61 + 80 x71 + 196 y21 + 196 y31 + 196 y41 + 196 y51\n",
      " + 196 y61 + 80 y71 >= 700\n",
      "\n",
      "_C8: 196 x61 + 196 x71 + 80 x81 + 196 y31 + 196 y41 + 196 y51 + 196 y61\n",
      " + 196 y71 + 80 y81 >= 600\n",
      "\n",
      "_C9: 196 x71 + 196 x81 + 80 x91 + 196 y41 + 196 y51 + 196 y61 + 196 y71\n",
      " + 196 y81 + 80 y91 >= 1300\n",
      "\n",
      "_C10: 80 x101 + 196 x81 + 196 x91 + 80 y101 + 196 y51 + 196 y61 + 196 y71\n",
      " + 196 y81 + 196 y91 >= 1600\n",
      "\n",
      "_C11: 196 x101 + 80 x111 + 196 x91 + 196 y101 + 80 y111 + 196 y61 + 196 y71\n",
      " + 196 y81 + 196 y91 >= 1800\n",
      "\n",
      "_C12: 196 x101 + 196 x111 + 80 x121 + 196 y101 + 196 y111 + 80 y121 + 196 y71\n",
      " + 196 y81 + 196 y91 >= 2300\n",
      "\n",
      "VARIABLES\n",
      "0 <= x101 Integer\n",
      "0 <= x11 Integer\n",
      "0 <= x111 Integer\n",
      "0 <= x12 Integer\n",
      "0 <= x121 Integer\n",
      "0 <= x13 Integer\n",
      "0 <= x21 Integer\n",
      "0 <= x31 Integer\n",
      "0 <= x41 Integer\n",
      "0 <= x51 Integer\n",
      "0 <= x61 Integer\n",
      "0 <= x71 Integer\n",
      "0 <= x81 Integer\n",
      "0 <= x91 Integer\n",
      "0 <= y101 Integer\n",
      "0 <= y11 Integer\n",
      "0 <= y111 Integer\n",
      "0 <= y12 Integer\n",
      "0 <= y121 Integer\n",
      "0 <= y13 Integer\n",
      "0 <= y14 Integer\n",
      "0 <= y15 Integer\n",
      "0 <= y16 Integer\n",
      "0 <= y21 Integer\n",
      "0 <= y31 Integer\n",
      "0 <= y41 Integer\n",
      "0 <= y51 Integer\n",
      "0 <= y61 Integer\n",
      "0 <= y71 Integer\n",
      "0 <= y81 Integer\n",
      "0 <= y91 Integer\n",
      "\n"
     ]
    }
   ],
   "source": [
    "print(work_demand2)"
   ]
  },
  {
   "cell_type": "code",
   "execution_count": 115,
   "id": "2a9ef267",
   "metadata": {},
   "outputs": [],
   "source": [
    "solution = work_demand2.solve()"
   ]
  },
  {
   "cell_type": "markdown",
   "id": "2fe6c265",
   "metadata": {},
   "source": [
    "## calculating total money spent"
   ]
  },
  {
   "cell_type": "code",
   "execution_count": 116,
   "id": "734268d0",
   "metadata": {},
   "outputs": [
    {
     "name": "stdout",
     "output_type": "stream",
     "text": [
      "total money spent on worker:  173400.0\n"
     ]
    }
   ],
   "source": [
    "total_money = 0\n",
    "for k in range(12):\n",
    "    row = gen_index(starting_nodes[k])\n",
    "    for l in range(3):\n",
    "        total_money += x[row[l]].value()\n",
    "    for ll in range(6):\n",
    "        total_money += y[row[3+ll]].value()\n",
    "print(\"total money spent on worker: \",1700*total_money)"
   ]
  },
  {
   "cell_type": "markdown",
   "id": "59eeeec8",
   "metadata": {},
   "source": [
    "# final results"
   ]
  },
  {
   "cell_type": "code",
   "execution_count": 117,
   "id": "8074ce1e",
   "metadata": {},
   "outputs": [
    {
     "name": "stdout",
     "output_type": "stream",
     "text": [
      "hours provided: 1888.0 demanded: 1800 workers on 3month contr.:  8.0 workers on 6month contr.:  4.0\n",
      "hours provided: 2512.0 demanded: 2500 workers on 3month contr.:  8.0 workers on 6month contr.:  6.0\n",
      "hours provided: 1568.0 demanded: 1500 workers on 3month contr.:  2.0 workers on 6month contr.:  6.0\n",
      "hours provided: 980.0 demanded: 900 workers on 3month contr.:  0.0 workers on 6month contr.:  5.0\n",
      "hours provided: 864.0 demanded: 700 workers on 3month contr.:  1.0 workers on 6month contr.:  4.0\n",
      "hours provided: 1060.0 demanded: 1000 workers on 3month contr.:  2.0 workers on 6month contr.:  4.0\n",
      "hours provided: 784.0 demanded: 700 workers on 3month contr.:  2.0 workers on 6month contr.:  2.0\n",
      "hours provided: 676.0 demanded: 600 workers on 3month contr.:  1.0 workers on 6month contr.:  6.0\n",
      "hours provided: 1336.0 demanded: 1300 workers on 3month contr.:  0.0 workers on 6month contr.:  8.0\n",
      "hours provided: 1648.0 demanded: 1600 workers on 3month contr.:  1.0 workers on 6month contr.:  8.0\n",
      "hours provided: 1924.0 demanded: 1800 workers on 3month contr.:  3.0 workers on 6month contr.:  8.0\n",
      "hours provided: 2316.0 demanded: 2300 workers on 3month contr.:  5.0 workers on 6month contr.:  8.0\n"
     ]
    }
   ],
   "source": [
    "o = 0\n",
    "for p in starting_nodes:\n",
    "    print(\"hours provided:\", make_row(p,hours=True),\"demanded:\", hd[o],\"workers on 3month contr.: \", make_row(p,amount=True)[0],\"workers on 6month contr.: \", make_row(p,amount=True)[1])\n",
    "    o += 1"
   ]
  },
  {
   "cell_type": "code",
   "execution_count": null,
   "id": "4aa53221",
   "metadata": {},
   "outputs": [],
   "source": []
  },
  {
   "cell_type": "code",
   "execution_count": null,
   "id": "86c4c086",
   "metadata": {},
   "outputs": [],
   "source": []
  },
  {
   "cell_type": "code",
   "execution_count": null,
   "id": "8eadf95e",
   "metadata": {},
   "outputs": [],
   "source": []
  }
 ],
 "metadata": {
  "kernelspec": {
   "display_name": "Python 3 (ipykernel)",
   "language": "python",
   "name": "python3"
  },
  "language_info": {
   "codemirror_mode": {
    "name": "ipython",
    "version": 3
   },
   "file_extension": ".py",
   "mimetype": "text/x-python",
   "name": "python",
   "nbconvert_exporter": "python",
   "pygments_lexer": "ipython3",
   "version": "3.12.3"
  }
 },
 "nbformat": 4,
 "nbformat_minor": 5
}
